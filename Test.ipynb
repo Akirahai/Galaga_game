{
 "cells": [
  {
   "cell_type": "code",
   "execution_count": 3,
   "metadata": {},
   "outputs": [
    {
     "name": "stdout",
     "output_type": "stream",
     "text": [
      "Width: 2000, Height: 2000\n"
     ]
    }
   ],
   "source": [
    "from PIL import Image\n",
    "\n",
    "img_dir = 'Explosion.gif'\n",
    "image = Image.open(img_dir)\n",
    "\n",
    "width, height = image.size\n",
    "print(f\"Width: {width}, Height: {height}\")"
   ]
  },
  {
   "cell_type": "code",
   "execution_count": 4,
   "metadata": {},
   "outputs": [],
   "source": [
    "new_width = 700\n",
    "new_height = 700\n",
    "resized_image = image.resize((new_width, new_height))\n",
    "resized_image.save('char/explosion1.gif')"
   ]
  }
 ],
 "metadata": {
  "kernelspec": {
   "display_name": "ctd",
   "language": "python",
   "name": "python3"
  },
  "language_info": {
   "codemirror_mode": {
    "name": "ipython",
    "version": 3
   },
   "file_extension": ".py",
   "mimetype": "text/x-python",
   "name": "python",
   "nbconvert_exporter": "python",
   "pygments_lexer": "ipython3",
   "version": "3.11.5"
  }
 },
 "nbformat": 4,
 "nbformat_minor": 2
}
