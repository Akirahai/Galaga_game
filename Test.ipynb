{
 "cells": [
  {
   "cell_type": "code",
   "execution_count": 3,
   "metadata": {},
   "outputs": [
    {
     "ename": "ModuleNotFoundError",
     "evalue": "No module named 'PIL'",
     "output_type": "error",
     "traceback": [
      "\u001b[1;31m---------------------------------------------------------------------------\u001b[0m",
      "\u001b[1;31mModuleNotFoundError\u001b[0m                       Traceback (most recent call last)",
      "\u001b[1;32mc:\\Users\\aryan\\Documents\\not-system-folders\\SUTD\\CTD\\CTD_PY\\Galaga_game\\Test.ipynb Cell 1\u001b[0m line \u001b[0;36m1\n\u001b[1;32m----> <a href='vscode-notebook-cell:/c%3A/Users/aryan/Documents/not-system-folders/SUTD/CTD/CTD_PY/Galaga_game/Test.ipynb#W0sZmlsZQ%3D%3D?line=0'>1</a>\u001b[0m \u001b[39mfrom\u001b[39;00m \u001b[39mPIL\u001b[39;00m \u001b[39mimport\u001b[39;00m Image\n\u001b[0;32m      <a href='vscode-notebook-cell:/c%3A/Users/aryan/Documents/not-system-folders/SUTD/CTD/CTD_PY/Galaga_game/Test.ipynb#W0sZmlsZQ%3D%3D?line=2'>3</a>\u001b[0m img_dir \u001b[39m=\u001b[39m \u001b[39m'\u001b[39m\u001b[39mliterallyme.gif\u001b[39m\u001b[39m'\u001b[39m\n\u001b[0;32m      <a href='vscode-notebook-cell:/c%3A/Users/aryan/Documents/not-system-folders/SUTD/CTD/CTD_PY/Galaga_game/Test.ipynb#W0sZmlsZQ%3D%3D?line=3'>4</a>\u001b[0m image \u001b[39m=\u001b[39m Image\u001b[39m.\u001b[39mopen(img_dir)\n",
      "\u001b[1;31mModuleNotFoundError\u001b[0m: No module named 'PIL'"
     ]
    }
   ],
   "source": [
    "from PIL import Image\n",
    "\n",
    "img_dir = 'literallyme.gif'\n",
    "image = Image.open(img_dir)\n",
    "\n",
    "width, height = image.size\n",
    "print(f\"Width: {width}, Height: {height}\")"
   ]
  },
  {
   "cell_type": "code",
   "execution_count": 22,
   "metadata": {},
   "outputs": [
    {
     "name": "stdout",
     "output_type": "stream",
     "text": [
      "Default speed for enemy1: 1\n",
      "Default speed for enemy2: 9\n",
      "New speed for enemy1: 100\n",
      "New speed for enemy2: 9\n"
     ]
    }
   ],
   "source": [
    "class Enemy:\n",
    "    # Class variable to store the default speed\n",
    "    default_speed = 1\n",
    "\n",
    "    def __init__(self):\n",
    "        self.speed = 9\n",
    "\n",
    "# Creating instances of Enemy class\n",
    "enemy1 = Enemy()\n",
    "enemy2 = Enemy()\n",
    "\n",
    "print(\"Default speed for enemy1:\", enemy1.default_speed)  # Output: Default speed for enemy1: 1\n",
    "print(\"Default speed for enemy2:\", enemy2.speed)  # Output: Default speed for enemy2: 1\n",
    "\n",
    "# Changing the default speed for all instances\n",
    "Enemy.default_speed = 100\n",
    "\n",
    "print(\"New speed for enemy1:\", enemy1.default_speed)  # Output: New speed for enemy1: 2\n",
    "print(\"New speed for enemy2:\", enemy2.speed)  # Output: New speed for enemy2: 2\n"
   ]
  },
  {
   "cell_type": "code",
   "execution_count": 19,
   "metadata": {},
   "outputs": [
    {
     "name": "stdout",
     "output_type": "stream",
     "text": [
      "Default speed for enemy1: 3\n",
      "Default speed for enemy2: 3\n",
      "New speed for enemy1: 4\n",
      "New speed for enemy2: 4\n",
      "Total number of enemies: 9\n"
     ]
    }
   ],
   "source": [
    "\n",
    "\n",
    "class Enemy:\n",
    "    number = 0\n",
    "    \n",
    "    def __init__(self, speed):\n",
    "        self.speed = speed\n",
    "\n",
    "enemy1 = Enemy(3)\n",
    "enemy2 = Enemy(3)\n",
    "\n",
    "print(\"Default speed for enemy1:\", enemy1.speed)  # Output: Default speed for enemy1: 1\n",
    "print(\"Default speed for enemy2:\", enemy2.speed)  # Output: Default speed for enemy2: 1\n",
    "\n",
    "# Changing the speed for all instances\n",
    "enemy1 = Enemy(4)\n",
    "enemy2 = Enemy(4)\n",
    "\n",
    "Enemy.number = 9\n",
    "\n",
    "print(\"New speed for enemy1:\", enemy1.speed)  # Output: New speed for enemy1: 2\n",
    "print(\"New speed for enemy2:\", enemy2.speed)  # Output: New speed for enemy2: 2\n",
    "\n",
    "print(\"Total number of enemies:\", enemy1.number)  # Output: Total number of enemies: 2"
   ]
  }
 ],
 "metadata": {
  "kernelspec": {
   "display_name": "ctd",
   "language": "python",
   "name": "python3"
  },
  "language_info": {
   "codemirror_mode": {
    "name": "ipython",
    "version": 3
   },
   "file_extension": ".py",
   "mimetype": "text/x-python",
   "name": "python",
   "nbconvert_exporter": "python",
   "pygments_lexer": "ipython3",
   "version": "3.11.5"
  }
 },
 "nbformat": 4,
 "nbformat_minor": 2
}
